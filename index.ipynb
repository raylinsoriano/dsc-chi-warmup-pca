{
 "cells": [
  {
   "cell_type": "markdown",
   "metadata": {},
   "source": [
    "# PCA Practice\n",
    "\n",
    "## Concepts\n",
    "\n",
    "#### Give at least two reasons why one might use PCA.  Be sure to include discussion of what problem PCA solves and how."
   ]
  },
  {
   "cell_type": "markdown",
   "metadata": {},
   "source": [
    "#Your answers here\n",
    "It is efficiant, and can help with overfitting and multicollinarity. "
   ]
  },
  {
   "cell_type": "code",
   "execution_count": 3,
   "metadata": {},
   "outputs": [],
   "source": [
    "# Run as-is\n",
    "from sklearn.datasets import make_classification\n",
    "from sklearn.pipeline import Pipeline\n",
    "from sklearn.decomposition import PCA\n",
    "from sklearn.linear_model import LogisticRegression\n",
    "from sklearn.model_selection import train_test_split\n",
    "from sklearn.metrics import f1_score\n",
    "from sklearn.model_selection import cross_validate\n",
    "from sklearn.preprocessing import StandardScaler\n",
    "import matplotlib.pyplot as plt\n",
    "import numpy as np\n",
    "import pandas as pd\n",
    "\n",
    "%matplotlib inline\n",
    "import pickle as pkl\n",
    "\n",
    "with open('test_obj/X.pkl', 'rb') as f:\n",
    "    X = pkl.load(f)\n",
    "\n",
    "with open('test_obj/y.pkl', 'rb') as f:\n",
    "    y = pkl.load(f)  \n",
    "\n",
    "from test_scripts.test_class import Test\n",
    "test = Test()"
   ]
  },
  {
   "cell_type": "markdown",
   "metadata": {},
   "source": []
  },
  {
   "cell_type": "markdown",
   "metadata": {},
   "source": [
    "## Application\n",
    "\n",
    "### Data Exploration\n",
    "\n",
    "- Turn `X` (a np array of features) into a dataframe.  \n",
    "    - How many features are there? \n",
    "    - How many observations are there?\n",
    "\n",
    "- Turn `y` (a np array of the target) into a df.\n",
    "    - Are the observations in y continuous or discreet?\n",
    "    - Would prediction of y be a regression or classification problem?"
   ]
  },
  {
   "cell_type": "code",
   "execution_count": 4,
   "metadata": {},
   "outputs": [
    {
     "data": {
      "text/html": [
       "<div>\n",
       "<style scoped>\n",
       "    .dataframe tbody tr th:only-of-type {\n",
       "        vertical-align: middle;\n",
       "    }\n",
       "\n",
       "    .dataframe tbody tr th {\n",
       "        vertical-align: top;\n",
       "    }\n",
       "\n",
       "    .dataframe thead th {\n",
       "        text-align: right;\n",
       "    }\n",
       "</style>\n",
       "<table border=\"1\" class=\"dataframe\">\n",
       "  <thead>\n",
       "    <tr style=\"text-align: right;\">\n",
       "      <th></th>\n",
       "      <th>0</th>\n",
       "      <th>1</th>\n",
       "      <th>2</th>\n",
       "      <th>3</th>\n",
       "      <th>4</th>\n",
       "      <th>5</th>\n",
       "      <th>6</th>\n",
       "      <th>7</th>\n",
       "      <th>8</th>\n",
       "      <th>9</th>\n",
       "      <th>...</th>\n",
       "      <th>190</th>\n",
       "      <th>191</th>\n",
       "      <th>192</th>\n",
       "      <th>193</th>\n",
       "      <th>194</th>\n",
       "      <th>195</th>\n",
       "      <th>196</th>\n",
       "      <th>197</th>\n",
       "      <th>198</th>\n",
       "      <th>199</th>\n",
       "    </tr>\n",
       "  </thead>\n",
       "  <tbody>\n",
       "    <tr>\n",
       "      <th>0</th>\n",
       "      <td>55.921010</td>\n",
       "      <td>15.960047</td>\n",
       "      <td>79.847579</td>\n",
       "      <td>-74.575722</td>\n",
       "      <td>62.516598</td>\n",
       "      <td>53.176317</td>\n",
       "      <td>-51.041311</td>\n",
       "      <td>11.320495</td>\n",
       "      <td>41.056206</td>\n",
       "      <td>-53.242694</td>\n",
       "      <td>...</td>\n",
       "      <td>-17.650115</td>\n",
       "      <td>-178.500520</td>\n",
       "      <td>24.571521</td>\n",
       "      <td>-57.691007</td>\n",
       "      <td>-118.814451</td>\n",
       "      <td>96.518514</td>\n",
       "      <td>-135.794932</td>\n",
       "      <td>23.756274</td>\n",
       "      <td>-88.186923</td>\n",
       "      <td>-154.113549</td>\n",
       "    </tr>\n",
       "    <tr>\n",
       "      <th>1</th>\n",
       "      <td>-73.137546</td>\n",
       "      <td>262.099610</td>\n",
       "      <td>203.580404</td>\n",
       "      <td>69.886526</td>\n",
       "      <td>-87.645923</td>\n",
       "      <td>-37.853021</td>\n",
       "      <td>162.116358</td>\n",
       "      <td>-6.703982</td>\n",
       "      <td>-68.917502</td>\n",
       "      <td>-113.079926</td>\n",
       "      <td>...</td>\n",
       "      <td>146.513688</td>\n",
       "      <td>138.809206</td>\n",
       "      <td>-31.582876</td>\n",
       "      <td>-12.368799</td>\n",
       "      <td>123.042927</td>\n",
       "      <td>9.881037</td>\n",
       "      <td>80.389418</td>\n",
       "      <td>9.012742</td>\n",
       "      <td>-235.405012</td>\n",
       "      <td>-114.050512</td>\n",
       "    </tr>\n",
       "    <tr>\n",
       "      <th>2</th>\n",
       "      <td>-69.267421</td>\n",
       "      <td>-88.897460</td>\n",
       "      <td>-278.270517</td>\n",
       "      <td>31.852727</td>\n",
       "      <td>78.004654</td>\n",
       "      <td>43.549353</td>\n",
       "      <td>114.118687</td>\n",
       "      <td>-7.801539</td>\n",
       "      <td>3.054873</td>\n",
       "      <td>177.264452</td>\n",
       "      <td>...</td>\n",
       "      <td>164.909886</td>\n",
       "      <td>44.116772</td>\n",
       "      <td>-20.406617</td>\n",
       "      <td>87.463821</td>\n",
       "      <td>-31.078816</td>\n",
       "      <td>-54.469739</td>\n",
       "      <td>-155.910400</td>\n",
       "      <td>-8.145598</td>\n",
       "      <td>-80.744555</td>\n",
       "      <td>-70.138429</td>\n",
       "    </tr>\n",
       "    <tr>\n",
       "      <th>3</th>\n",
       "      <td>43.179196</td>\n",
       "      <td>-21.603889</td>\n",
       "      <td>68.748104</td>\n",
       "      <td>-290.428027</td>\n",
       "      <td>-7.420026</td>\n",
       "      <td>23.682904</td>\n",
       "      <td>-200.636222</td>\n",
       "      <td>28.736841</td>\n",
       "      <td>26.592064</td>\n",
       "      <td>0.825606</td>\n",
       "      <td>...</td>\n",
       "      <td>38.956570</td>\n",
       "      <td>35.309093</td>\n",
       "      <td>34.423370</td>\n",
       "      <td>161.662262</td>\n",
       "      <td>68.547606</td>\n",
       "      <td>-9.943278</td>\n",
       "      <td>103.701966</td>\n",
       "      <td>-43.998760</td>\n",
       "      <td>33.854567</td>\n",
       "      <td>-118.591361</td>\n",
       "    </tr>\n",
       "    <tr>\n",
       "      <th>4</th>\n",
       "      <td>-2.371481</td>\n",
       "      <td>-211.755001</td>\n",
       "      <td>-64.853466</td>\n",
       "      <td>148.339519</td>\n",
       "      <td>-49.650926</td>\n",
       "      <td>-46.684332</td>\n",
       "      <td>-187.940417</td>\n",
       "      <td>-11.942910</td>\n",
       "      <td>-17.884681</td>\n",
       "      <td>100.247822</td>\n",
       "      <td>...</td>\n",
       "      <td>-357.976799</td>\n",
       "      <td>154.390629</td>\n",
       "      <td>-34.631452</td>\n",
       "      <td>-49.448503</td>\n",
       "      <td>54.648795</td>\n",
       "      <td>-80.964527</td>\n",
       "      <td>100.676255</td>\n",
       "      <td>-24.848862</td>\n",
       "      <td>84.467553</td>\n",
       "      <td>37.958813</td>\n",
       "    </tr>\n",
       "    <tr>\n",
       "      <th>...</th>\n",
       "      <td>...</td>\n",
       "      <td>...</td>\n",
       "      <td>...</td>\n",
       "      <td>...</td>\n",
       "      <td>...</td>\n",
       "      <td>...</td>\n",
       "      <td>...</td>\n",
       "      <td>...</td>\n",
       "      <td>...</td>\n",
       "      <td>...</td>\n",
       "      <td>...</td>\n",
       "      <td>...</td>\n",
       "      <td>...</td>\n",
       "      <td>...</td>\n",
       "      <td>...</td>\n",
       "      <td>...</td>\n",
       "      <td>...</td>\n",
       "      <td>...</td>\n",
       "      <td>...</td>\n",
       "      <td>...</td>\n",
       "      <td>...</td>\n",
       "    </tr>\n",
       "    <tr>\n",
       "      <th>9995</th>\n",
       "      <td>3.933241</td>\n",
       "      <td>-280.651397</td>\n",
       "      <td>27.322593</td>\n",
       "      <td>147.632936</td>\n",
       "      <td>-23.827173</td>\n",
       "      <td>-7.847760</td>\n",
       "      <td>31.971727</td>\n",
       "      <td>30.387287</td>\n",
       "      <td>3.045001</td>\n",
       "      <td>103.723499</td>\n",
       "      <td>...</td>\n",
       "      <td>210.020625</td>\n",
       "      <td>140.426647</td>\n",
       "      <td>-17.957511</td>\n",
       "      <td>-51.123003</td>\n",
       "      <td>53.406823</td>\n",
       "      <td>30.502158</td>\n",
       "      <td>42.589689</td>\n",
       "      <td>49.841822</td>\n",
       "      <td>-33.491129</td>\n",
       "      <td>66.421318</td>\n",
       "    </tr>\n",
       "    <tr>\n",
       "      <th>9996</th>\n",
       "      <td>8.740935</td>\n",
       "      <td>102.048425</td>\n",
       "      <td>-162.498064</td>\n",
       "      <td>-606.065395</td>\n",
       "      <td>49.876584</td>\n",
       "      <td>21.151854</td>\n",
       "      <td>-100.499972</td>\n",
       "      <td>-25.898545</td>\n",
       "      <td>125.459552</td>\n",
       "      <td>166.601057</td>\n",
       "      <td>...</td>\n",
       "      <td>-61.127880</td>\n",
       "      <td>-19.540310</td>\n",
       "      <td>5.084644</td>\n",
       "      <td>28.765929</td>\n",
       "      <td>-95.634852</td>\n",
       "      <td>-6.299816</td>\n",
       "      <td>-31.578054</td>\n",
       "      <td>0.969460</td>\n",
       "      <td>229.874286</td>\n",
       "      <td>-65.522408</td>\n",
       "    </tr>\n",
       "    <tr>\n",
       "      <th>9997</th>\n",
       "      <td>20.409360</td>\n",
       "      <td>407.554583</td>\n",
       "      <td>187.559316</td>\n",
       "      <td>142.268610</td>\n",
       "      <td>48.600248</td>\n",
       "      <td>120.130176</td>\n",
       "      <td>-230.321284</td>\n",
       "      <td>41.967207</td>\n",
       "      <td>35.074751</td>\n",
       "      <td>-272.738484</td>\n",
       "      <td>...</td>\n",
       "      <td>127.685204</td>\n",
       "      <td>42.587286</td>\n",
       "      <td>-13.131699</td>\n",
       "      <td>125.849059</td>\n",
       "      <td>79.274089</td>\n",
       "      <td>114.565831</td>\n",
       "      <td>88.808943</td>\n",
       "      <td>-9.852505</td>\n",
       "      <td>-84.356507</td>\n",
       "      <td>-37.092551</td>\n",
       "    </tr>\n",
       "    <tr>\n",
       "      <th>9998</th>\n",
       "      <td>-49.744315</td>\n",
       "      <td>-191.191809</td>\n",
       "      <td>16.214385</td>\n",
       "      <td>230.632755</td>\n",
       "      <td>-6.947054</td>\n",
       "      <td>-11.524058</td>\n",
       "      <td>36.776765</td>\n",
       "      <td>-58.931816</td>\n",
       "      <td>13.124467</td>\n",
       "      <td>158.883470</td>\n",
       "      <td>...</td>\n",
       "      <td>-150.333578</td>\n",
       "      <td>18.777163</td>\n",
       "      <td>-15.570747</td>\n",
       "      <td>-116.394819</td>\n",
       "      <td>11.541135</td>\n",
       "      <td>207.663864</td>\n",
       "      <td>3.171231</td>\n",
       "      <td>26.771259</td>\n",
       "      <td>56.250688</td>\n",
       "      <td>97.389784</td>\n",
       "    </tr>\n",
       "    <tr>\n",
       "      <th>9999</th>\n",
       "      <td>-75.711304</td>\n",
       "      <td>-304.137143</td>\n",
       "      <td>-50.281186</td>\n",
       "      <td>12.687010</td>\n",
       "      <td>-21.324089</td>\n",
       "      <td>-49.801948</td>\n",
       "      <td>88.113356</td>\n",
       "      <td>-54.888625</td>\n",
       "      <td>38.351302</td>\n",
       "      <td>-63.549675</td>\n",
       "      <td>...</td>\n",
       "      <td>144.381534</td>\n",
       "      <td>-12.804700</td>\n",
       "      <td>-26.697645</td>\n",
       "      <td>-86.298628</td>\n",
       "      <td>59.082140</td>\n",
       "      <td>74.538047</td>\n",
       "      <td>81.258416</td>\n",
       "      <td>10.273816</td>\n",
       "      <td>-107.448956</td>\n",
       "      <td>42.076514</td>\n",
       "    </tr>\n",
       "  </tbody>\n",
       "</table>\n",
       "<p>10000 rows × 200 columns</p>\n",
       "</div>"
      ],
      "text/plain": [
       "            0           1           2           3          4           5    \\\n",
       "0     55.921010   15.960047   79.847579  -74.575722  62.516598   53.176317   \n",
       "1    -73.137546  262.099610  203.580404   69.886526 -87.645923  -37.853021   \n",
       "2    -69.267421  -88.897460 -278.270517   31.852727  78.004654   43.549353   \n",
       "3     43.179196  -21.603889   68.748104 -290.428027  -7.420026   23.682904   \n",
       "4     -2.371481 -211.755001  -64.853466  148.339519 -49.650926  -46.684332   \n",
       "...         ...         ...         ...         ...        ...         ...   \n",
       "9995   3.933241 -280.651397   27.322593  147.632936 -23.827173   -7.847760   \n",
       "9996   8.740935  102.048425 -162.498064 -606.065395  49.876584   21.151854   \n",
       "9997  20.409360  407.554583  187.559316  142.268610  48.600248  120.130176   \n",
       "9998 -49.744315 -191.191809   16.214385  230.632755  -6.947054  -11.524058   \n",
       "9999 -75.711304 -304.137143  -50.281186   12.687010 -21.324089  -49.801948   \n",
       "\n",
       "             6          7           8           9    ...         190  \\\n",
       "0     -51.041311  11.320495   41.056206  -53.242694  ...  -17.650115   \n",
       "1     162.116358  -6.703982  -68.917502 -113.079926  ...  146.513688   \n",
       "2     114.118687  -7.801539    3.054873  177.264452  ...  164.909886   \n",
       "3    -200.636222  28.736841   26.592064    0.825606  ...   38.956570   \n",
       "4    -187.940417 -11.942910  -17.884681  100.247822  ... -357.976799   \n",
       "...          ...        ...         ...         ...  ...         ...   \n",
       "9995   31.971727  30.387287    3.045001  103.723499  ...  210.020625   \n",
       "9996 -100.499972 -25.898545  125.459552  166.601057  ...  -61.127880   \n",
       "9997 -230.321284  41.967207   35.074751 -272.738484  ...  127.685204   \n",
       "9998   36.776765 -58.931816   13.124467  158.883470  ... -150.333578   \n",
       "9999   88.113356 -54.888625   38.351302  -63.549675  ...  144.381534   \n",
       "\n",
       "             191        192         193         194         195         196  \\\n",
       "0    -178.500520  24.571521  -57.691007 -118.814451   96.518514 -135.794932   \n",
       "1     138.809206 -31.582876  -12.368799  123.042927    9.881037   80.389418   \n",
       "2      44.116772 -20.406617   87.463821  -31.078816  -54.469739 -155.910400   \n",
       "3      35.309093  34.423370  161.662262   68.547606   -9.943278  103.701966   \n",
       "4     154.390629 -34.631452  -49.448503   54.648795  -80.964527  100.676255   \n",
       "...          ...        ...         ...         ...         ...         ...   \n",
       "9995  140.426647 -17.957511  -51.123003   53.406823   30.502158   42.589689   \n",
       "9996  -19.540310   5.084644   28.765929  -95.634852   -6.299816  -31.578054   \n",
       "9997   42.587286 -13.131699  125.849059   79.274089  114.565831   88.808943   \n",
       "9998   18.777163 -15.570747 -116.394819   11.541135  207.663864    3.171231   \n",
       "9999  -12.804700 -26.697645  -86.298628   59.082140   74.538047   81.258416   \n",
       "\n",
       "            197         198         199  \n",
       "0     23.756274  -88.186923 -154.113549  \n",
       "1      9.012742 -235.405012 -114.050512  \n",
       "2     -8.145598  -80.744555  -70.138429  \n",
       "3    -43.998760   33.854567 -118.591361  \n",
       "4    -24.848862   84.467553   37.958813  \n",
       "...         ...         ...         ...  \n",
       "9995  49.841822  -33.491129   66.421318  \n",
       "9996   0.969460  229.874286  -65.522408  \n",
       "9997  -9.852505  -84.356507  -37.092551  \n",
       "9998  26.771259   56.250688   97.389784  \n",
       "9999  10.273816 -107.448956   42.076514  \n",
       "\n",
       "[10000 rows x 200 columns]"
      ]
     },
     "execution_count": 4,
     "metadata": {},
     "output_type": "execute_result"
    }
   ],
   "source": [
    "# your work here\n",
    "pd.DataFrame(X)"
   ]
  },
  {
   "cell_type": "markdown",
   "metadata": {},
   "source": [
    "How many features are there?\n",
    "200\n",
    "How many observations are there?\n",
    "1000"
   ]
  },
  {
   "cell_type": "code",
   "execution_count": 6,
   "metadata": {},
   "outputs": [
    {
     "data": {
      "text/html": [
       "<div>\n",
       "<style scoped>\n",
       "    .dataframe tbody tr th:only-of-type {\n",
       "        vertical-align: middle;\n",
       "    }\n",
       "\n",
       "    .dataframe tbody tr th {\n",
       "        vertical-align: top;\n",
       "    }\n",
       "\n",
       "    .dataframe thead th {\n",
       "        text-align: right;\n",
       "    }\n",
       "</style>\n",
       "<table border=\"1\" class=\"dataframe\">\n",
       "  <thead>\n",
       "    <tr style=\"text-align: right;\">\n",
       "      <th></th>\n",
       "      <th>0</th>\n",
       "    </tr>\n",
       "  </thead>\n",
       "  <tbody>\n",
       "    <tr>\n",
       "      <th>0</th>\n",
       "      <td>0</td>\n",
       "    </tr>\n",
       "    <tr>\n",
       "      <th>1</th>\n",
       "      <td>1</td>\n",
       "    </tr>\n",
       "    <tr>\n",
       "      <th>2</th>\n",
       "      <td>1</td>\n",
       "    </tr>\n",
       "    <tr>\n",
       "      <th>3</th>\n",
       "      <td>0</td>\n",
       "    </tr>\n",
       "    <tr>\n",
       "      <th>4</th>\n",
       "      <td>0</td>\n",
       "    </tr>\n",
       "    <tr>\n",
       "      <th>...</th>\n",
       "      <td>...</td>\n",
       "    </tr>\n",
       "    <tr>\n",
       "      <th>9995</th>\n",
       "      <td>0</td>\n",
       "    </tr>\n",
       "    <tr>\n",
       "      <th>9996</th>\n",
       "      <td>0</td>\n",
       "    </tr>\n",
       "    <tr>\n",
       "      <th>9997</th>\n",
       "      <td>0</td>\n",
       "    </tr>\n",
       "    <tr>\n",
       "      <th>9998</th>\n",
       "      <td>0</td>\n",
       "    </tr>\n",
       "    <tr>\n",
       "      <th>9999</th>\n",
       "      <td>1</td>\n",
       "    </tr>\n",
       "  </tbody>\n",
       "</table>\n",
       "<p>10000 rows × 1 columns</p>\n",
       "</div>"
      ],
      "text/plain": [
       "      0\n",
       "0     0\n",
       "1     1\n",
       "2     1\n",
       "3     0\n",
       "4     0\n",
       "...  ..\n",
       "9995  0\n",
       "9996  0\n",
       "9997  0\n",
       "9998  0\n",
       "9999  1\n",
       "\n",
       "[10000 rows x 1 columns]"
      ]
     },
     "execution_count": 6,
     "metadata": {},
     "output_type": "execute_result"
    }
   ],
   "source": [
    "pd.DataFrame(y)"
   ]
  },
  {
   "cell_type": "markdown",
   "metadata": {},
   "source": [
    "Are the observations in y continuous or discreet?\n",
    "Discrete\n",
    "Would prediction of y be a regression or classification problem?\n",
    "Classification "
   ]
  },
  {
   "cell_type": "markdown",
   "metadata": {},
   "source": [
    "### PCA Exploration\n",
    "\n",
    "#### Run the following steps\n",
    "- Train Test Split, `random_state` = 1\n",
    "\n",
    "- Scale w/ StandardScaler\n",
    "\n",
    "- For the full PCA transformation (ie, w/o specifying `n_components` number)\n",
    "on `X_train`, store the explained variance ratio for each component \n",
    "in `evr`\n",
    "\n",
    "- Graph `evr`\n",
    "\n",
    "- Re-graph the first few components in order to focus on them (you'll see why)\n",
    "\n",
    "How many principal components does it look like we should choose?"
   ]
  },
  {
   "cell_type": "code",
   "execution_count": 8,
   "metadata": {},
   "outputs": [],
   "source": [
    "#Your work here\n",
    "from sklearn.model_selection import train_test_split\n",
    "X_train, X_test, y_train, y_test= train_test_split(X,y, random_state=1)"
   ]
  },
  {
   "cell_type": "code",
   "execution_count": 11,
   "metadata": {},
   "outputs": [],
   "source": [
    "from sklearn.preprocessing import StandardScaler\n",
    "scaler = StandardScaler()\n",
    "scaler.fit(X_train)\n",
    "X_train= scaler.transform(X_train)\n",
    "X_test= scaler.transform(X_test)"
   ]
  },
  {
   "cell_type": "code",
   "execution_count": 41,
   "metadata": {},
   "outputs": [],
   "source": [
    "from sklearn.decomposition import PCA\n",
    "pca = PCA()\n",
    "pca.fit_transform(X_train)\n",
    "evr = pca.explained_variance_ratio_"
   ]
  },
  {
   "cell_type": "code",
   "execution_count": 29,
   "metadata": {},
   "outputs": [
    {
     "data": {
      "text/plain": [
       "(200,)"
      ]
     },
     "execution_count": 29,
     "metadata": {},
     "output_type": "execute_result"
    }
   ],
   "source": [
    "evr.shape"
   ]
  },
  {
   "cell_type": "code",
   "execution_count": 30,
   "metadata": {},
   "outputs": [
    {
     "data": {
      "text/plain": [
       "(7500, 200)"
      ]
     },
     "execution_count": 30,
     "metadata": {},
     "output_type": "execute_result"
    }
   ],
   "source": [
    "X_train.shape"
   ]
  },
  {
   "cell_type": "code",
   "execution_count": 33,
   "metadata": {},
   "outputs": [
    {
     "data": {
      "text/plain": [
       "(7500,)"
      ]
     },
     "execution_count": 33,
     "metadata": {},
     "output_type": "execute_result"
    }
   ],
   "source": [
    "y_train.shape"
   ]
  },
  {
   "cell_type": "code",
   "execution_count": 42,
   "metadata": {},
   "outputs": [
    {
     "data": {
      "text/plain": [
       "[<matplotlib.lines.Line2D at 0x7fb9f5a51780>]"
      ]
     },
     "execution_count": 42,
     "metadata": {},
     "output_type": "execute_result"
    },
    {
     "data": {
      "image/png": "[encoded data removed]",
      "text/plain": [
       "<Figure size 432x288 with 1 Axes>"
      ]
     },
     "metadata": {},
     "output_type": "display_data"
    }
   ],
   "source": [
    "plt.plot(evr)"
   ]
  },
  {
   "cell_type": "code",
   "execution_count": 46,
   "metadata": {},
   "outputs": [
    {
     "data": {
      "text/plain": [
       "[<matplotlib.lines.Line2D at 0x7fb9f8deb5c0>]"
      ]
     },
     "execution_count": 46,
     "metadata": {},
     "output_type": "execute_result"
    },
    {
     "data": {
      "image/png": "[encoded data removed]",
      "text/plain": [
       "<Figure size 432x288 with 1 Axes>"
      ]
     },
     "metadata": {},
     "output_type": "display_data"
    }
   ],
   "source": [
    "plt.plot(evr[:25])"
   ]
  },
  {
   "cell_type": "code",
   "execution_count": null,
   "metadata": {},
   "outputs": [],
   "source": []
  },
  {
   "cell_type": "markdown",
   "metadata": {},
   "source": [
    "### Calculate Train and Test Error\n",
    "\n",
    "#### Run the following:\n",
    "- for the first 50 principal components,\n",
    "  - scale the data\n",
    "  - generate the number of principal components and transform them into features\n",
    "  - Using Logistic Regression with default inputs, generate train and test predictions through 10-fold cross validation\n",
    "    - *Hint:* use `sklearn.cross_validate`\n",
    "    - *Level up:* ideally, you would scale and PCA on each training fold (why?).  Use a pipeline!\n",
    "  - graph the means of the train and test predictions for each number of principal component\n",
    "\n",
    "#### Interpret the graph  \n",
    "- How many principle components should we choose based on this?\n",
    "- Is overfitting or underfitting a problem?\n",
    "\n",
    "#### Level up\n",
    "- Repeat the above but don't scale the data.  Intepret the results."
   ]
  },
  {
   "cell_type": "code",
   "execution_count": null,
   "metadata": {},
   "outputs": [],
   "source": [
    "#Your work here"
   ]
  },
  {
   "cell_type": "code",
   "execution_count": null,
   "metadata": {},
   "outputs": [],
   "source": []
  }
 ],
 "metadata": {
  "kernelspec": {
   "display_name": "Python (learn-env)",
   "language": "python",
   "name": "learn-env"
  },
  "language_info": {
   "codemirror_mode": {
    "name": "ipython",
    "version": 3
   },
   "file_extension": ".py",
   "mimetype": "text/x-python",
   "name": "python",
   "nbconvert_exporter": "python",
   "pygments_lexer": "ipython3",
   "version": "3.6.8"
  },
  "toc": {
   "base_numbering": 1,
   "nav_menu": {},
   "number_sections": false,
   "sideBar": true,
   "skip_h1_title": true,
   "title_cell": "Table of Contents",
   "title_sidebar": "Contents",
   "toc_cell": false,
   "toc_position": {},
   "toc_section_display": true,
   "toc_window_display": false
  },
  "varInspector": {
   "cols": {
    "lenName": 16,
    "lenType": 16,
    "lenVar": 40
   },
   "kernels_config": {
    "python": {
     "delete_cmd_postfix": "",
     "delete_cmd_prefix": "del ",
     "library": "var_list.py",
     "varRefreshCmd": "print(var_dic_list())"
    },
    "r": {
     "delete_cmd_postfix": ") ",
     "delete_cmd_prefix": "rm(",
     "library": "var_list.r",
     "varRefreshCmd": "cat(var_dic_list()) "
    }
   },
   "types_to_exclude": [
    "module",
    "function",
    "builtin_function_or_method",
    "instance",
    "_Feature"
   ],
   "window_display": false
  }
 },
 "nbformat": 4,
 "nbformat_minor": 4
}
